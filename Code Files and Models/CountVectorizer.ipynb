{
  "cells": [
    {
      "cell_type": "markdown",
      "metadata": {
        "id": "view-in-github",
        "colab_type": "text"
      },
      "source": [
        "<a href=\"https://colab.research.google.com/github/PranayNagrale/Multilingual_Cyberbullying_Detection/blob/main/Code%20Files%20and%20Models/CountVectorizer.ipynb\" target=\"_parent\"><img src=\"https://colab.research.google.com/assets/colab-badge.svg\" alt=\"Open In Colab\"/></a>"
      ]
    },
    {
      "cell_type": "code",
      "execution_count": null,
      "metadata": {
        "id": "y5FDJRmtfCh-"
      },
      "outputs": [],
      "source": [
        "import pandas as pd\n",
        "import numpy as np"
      ]
    },
    {
      "cell_type": "code",
      "execution_count": null,
      "metadata": {
        "id": "kldYpxgeh3He",
        "colab": {
          "base_uri": "https://localhost:8080/",
          "height": 562
        },
        "outputId": "e1991d4a-40f5-47ee-c892-690886efea8f"
      },
      "outputs": [
        {
          "output_type": "execute_result",
          "data": {
            "text/plain": [
              "        Unnamed: 0                                               text  hate  \\\n",
              "0                0   পাপন মাদারচোদ দেশের ক্রিকেট টাকে ধংস করে দেবে!!!     1   \n",
              "1                1  ভাই যদি পারেন তাহলে রুবেলের,,,,<br />,,, জজ সা...     0   \n",
              "2                2    গানকির পোলা তর মাইরে চুদি ব্যবহার খারাপ করছ কেন     1   \n",
              "3                3  এটা কি জাফর সাহেবের ভেরিফাইড ফেবু পেইজ?  নাকি ...     0   \n",
              "4                4                             আওমীলিগ ফেরাউনের বংশধর     1   \n",
              "...            ...                                                ...   ...   \n",
              "115654      116029  apo ivanuga pannadhulaam sariya modha ivanugal...     0   \n",
              "115655      116030                   Congrats bro for ur hardwork ...     0   \n",
              "115656      116031                                Perfect!!!! 😮👏🏻👏🏻👏🏻     0   \n",
              "115657      116032  ஓரு பக்கம் பட்டினி சாவு மறுபக்கம் மத பேரினவாதம...     0   \n",
              "115658      116033  என்னதான் நடக்குது என்பதே புரியலப்பா சாமி. ஆணும...     1   \n",
              "\n",
              "        num_characters  num_words  num_sentences  \\\n",
              "0                   48         11              2   \n",
              "1                  103         35              1   \n",
              "2                   47          9              1   \n",
              "3                  153         29              3   \n",
              "4                   22          3              1   \n",
              "...                ...        ...            ...   \n",
              "115654             132         16              1   \n",
              "115655              32          6              1   \n",
              "115656              19          6              2   \n",
              "115657              64         10              1   \n",
              "115658             240         33              2   \n",
              "\n",
              "                                         transformed_text  \n",
              "0               পাপন মাদারচোদ দেশের ক্রিকেট টাকে ধংস দেবে  \n",
              "1       ভাই রুবেলের জজ সাহেব পলাতক আসামী ছবি গুলো একটা...  \n",
              "2                     গানকির পোলা তর মাইরে চুদি খারাপ করছ  \n",
              "3       জাফর সাহেবের ভেরিফাইড ফেবু পেইজ অন্যকেউ দেখি ম...  \n",
              "4                                  আওমীলিগ ফেরাউনের বংশধর  \n",
              "...                                                   ...  \n",
              "115654  apo ivanuga pannadhulaam sariya modha ivanugal...  \n",
              "115655                            congrat ur hardwork ...  \n",
              "115656                                    perfect 😮👏🏻👏🏻👏🏻  \n",
              "115657  ஓரு பக்கம் பட்டினி சாவு மறுபக்கம் மத பேரினவாதம...  \n",
              "115658  என்னதான் நடக்குது என்பதே புரியலப்பா சாமி ஆணும்...  \n",
              "\n",
              "[115659 rows x 7 columns]"
            ],
            "text/html": [
              "\n",
              "  <div id=\"df-c5cdca97-d293-4ca4-92d9-f9c736c4b7bb\" class=\"colab-df-container\">\n",
              "    <div>\n",
              "<style scoped>\n",
              "    .dataframe tbody tr th:only-of-type {\n",
              "        vertical-align: middle;\n",
              "    }\n",
              "\n",
              "    .dataframe tbody tr th {\n",
              "        vertical-align: top;\n",
              "    }\n",
              "\n",
              "    .dataframe thead th {\n",
              "        text-align: right;\n",
              "    }\n",
              "</style>\n",
              "<table border=\"1\" class=\"dataframe\">\n",
              "  <thead>\n",
              "    <tr style=\"text-align: right;\">\n",
              "      <th></th>\n",
              "      <th>Unnamed: 0</th>\n",
              "      <th>text</th>\n",
              "      <th>hate</th>\n",
              "      <th>num_characters</th>\n",
              "      <th>num_words</th>\n",
              "      <th>num_sentences</th>\n",
              "      <th>transformed_text</th>\n",
              "    </tr>\n",
              "  </thead>\n",
              "  <tbody>\n",
              "    <tr>\n",
              "      <th>0</th>\n",
              "      <td>0</td>\n",
              "      <td>পাপন মাদারচোদ দেশের ক্রিকেট টাকে ধংস করে দেবে!!!</td>\n",
              "      <td>1</td>\n",
              "      <td>48</td>\n",
              "      <td>11</td>\n",
              "      <td>2</td>\n",
              "      <td>পাপন মাদারচোদ দেশের ক্রিকেট টাকে ধংস দেবে</td>\n",
              "    </tr>\n",
              "    <tr>\n",
              "      <th>1</th>\n",
              "      <td>1</td>\n",
              "      <td>ভাই যদি পারেন তাহলে রুবেলের,,,,&lt;br /&gt;,,, জজ সা...</td>\n",
              "      <td>0</td>\n",
              "      <td>103</td>\n",
              "      <td>35</td>\n",
              "      <td>1</td>\n",
              "      <td>ভাই রুবেলের জজ সাহেব পলাতক আসামী ছবি গুলো একটা...</td>\n",
              "    </tr>\n",
              "    <tr>\n",
              "      <th>2</th>\n",
              "      <td>2</td>\n",
              "      <td>গানকির পোলা তর মাইরে চুদি ব্যবহার খারাপ করছ কেন</td>\n",
              "      <td>1</td>\n",
              "      <td>47</td>\n",
              "      <td>9</td>\n",
              "      <td>1</td>\n",
              "      <td>গানকির পোলা তর মাইরে চুদি খারাপ করছ</td>\n",
              "    </tr>\n",
              "    <tr>\n",
              "      <th>3</th>\n",
              "      <td>3</td>\n",
              "      <td>এটা কি জাফর সাহেবের ভেরিফাইড ফেবু পেইজ?  নাকি ...</td>\n",
              "      <td>0</td>\n",
              "      <td>153</td>\n",
              "      <td>29</td>\n",
              "      <td>3</td>\n",
              "      <td>জাফর সাহেবের ভেরিফাইড ফেবু পেইজ অন্যকেউ দেখি ম...</td>\n",
              "    </tr>\n",
              "    <tr>\n",
              "      <th>4</th>\n",
              "      <td>4</td>\n",
              "      <td>আওমীলিগ ফেরাউনের বংশধর</td>\n",
              "      <td>1</td>\n",
              "      <td>22</td>\n",
              "      <td>3</td>\n",
              "      <td>1</td>\n",
              "      <td>আওমীলিগ ফেরাউনের বংশধর</td>\n",
              "    </tr>\n",
              "    <tr>\n",
              "      <th>...</th>\n",
              "      <td>...</td>\n",
              "      <td>...</td>\n",
              "      <td>...</td>\n",
              "      <td>...</td>\n",
              "      <td>...</td>\n",
              "      <td>...</td>\n",
              "      <td>...</td>\n",
              "    </tr>\n",
              "    <tr>\n",
              "      <th>115654</th>\n",
              "      <td>116029</td>\n",
              "      <td>apo ivanuga pannadhulaam sariya modha ivanugal...</td>\n",
              "      <td>0</td>\n",
              "      <td>132</td>\n",
              "      <td>16</td>\n",
              "      <td>1</td>\n",
              "      <td>apo ivanuga pannadhulaam sariya modha ivanugal...</td>\n",
              "    </tr>\n",
              "    <tr>\n",
              "      <th>115655</th>\n",
              "      <td>116030</td>\n",
              "      <td>Congrats bro for ur hardwork ...</td>\n",
              "      <td>0</td>\n",
              "      <td>32</td>\n",
              "      <td>6</td>\n",
              "      <td>1</td>\n",
              "      <td>congrat ur hardwork ...</td>\n",
              "    </tr>\n",
              "    <tr>\n",
              "      <th>115656</th>\n",
              "      <td>116031</td>\n",
              "      <td>Perfect!!!! 😮👏🏻👏🏻👏🏻</td>\n",
              "      <td>0</td>\n",
              "      <td>19</td>\n",
              "      <td>6</td>\n",
              "      <td>2</td>\n",
              "      <td>perfect 😮👏🏻👏🏻👏🏻</td>\n",
              "    </tr>\n",
              "    <tr>\n",
              "      <th>115657</th>\n",
              "      <td>116032</td>\n",
              "      <td>ஓரு பக்கம் பட்டினி சாவு மறுபக்கம் மத பேரினவாதம...</td>\n",
              "      <td>0</td>\n",
              "      <td>64</td>\n",
              "      <td>10</td>\n",
              "      <td>1</td>\n",
              "      <td>ஓரு பக்கம் பட்டினி சாவு மறுபக்கம் மத பேரினவாதம...</td>\n",
              "    </tr>\n",
              "    <tr>\n",
              "      <th>115658</th>\n",
              "      <td>116033</td>\n",
              "      <td>என்னதான் நடக்குது என்பதே புரியலப்பா சாமி. ஆணும...</td>\n",
              "      <td>1</td>\n",
              "      <td>240</td>\n",
              "      <td>33</td>\n",
              "      <td>2</td>\n",
              "      <td>என்னதான் நடக்குது என்பதே புரியலப்பா சாமி ஆணும்...</td>\n",
              "    </tr>\n",
              "  </tbody>\n",
              "</table>\n",
              "<p>115659 rows × 7 columns</p>\n",
              "</div>\n",
              "    <div class=\"colab-df-buttons\">\n",
              "\n",
              "  <div class=\"colab-df-container\">\n",
              "    <button class=\"colab-df-convert\" onclick=\"convertToInteractive('df-c5cdca97-d293-4ca4-92d9-f9c736c4b7bb')\"\n",
              "            title=\"Convert this dataframe to an interactive table.\"\n",
              "            style=\"display:none;\">\n",
              "\n",
              "  <svg xmlns=\"http://www.w3.org/2000/svg\" height=\"24px\" viewBox=\"0 -960 960 960\">\n",
              "    <path d=\"M120-120v-720h720v720H120Zm60-500h600v-160H180v160Zm220 220h160v-160H400v160Zm0 220h160v-160H400v160ZM180-400h160v-160H180v160Zm440 0h160v-160H620v160ZM180-180h160v-160H180v160Zm440 0h160v-160H620v160Z\"/>\n",
              "  </svg>\n",
              "    </button>\n",
              "\n",
              "  <style>\n",
              "    .colab-df-container {\n",
              "      display:flex;\n",
              "      gap: 12px;\n",
              "    }\n",
              "\n",
              "    .colab-df-convert {\n",
              "      background-color: #E8F0FE;\n",
              "      border: none;\n",
              "      border-radius: 50%;\n",
              "      cursor: pointer;\n",
              "      display: none;\n",
              "      fill: #1967D2;\n",
              "      height: 32px;\n",
              "      padding: 0 0 0 0;\n",
              "      width: 32px;\n",
              "    }\n",
              "\n",
              "    .colab-df-convert:hover {\n",
              "      background-color: #E2EBFA;\n",
              "      box-shadow: 0px 1px 2px rgba(60, 64, 67, 0.3), 0px 1px 3px 1px rgba(60, 64, 67, 0.15);\n",
              "      fill: #174EA6;\n",
              "    }\n",
              "\n",
              "    .colab-df-buttons div {\n",
              "      margin-bottom: 4px;\n",
              "    }\n",
              "\n",
              "    [theme=dark] .colab-df-convert {\n",
              "      background-color: #3B4455;\n",
              "      fill: #D2E3FC;\n",
              "    }\n",
              "\n",
              "    [theme=dark] .colab-df-convert:hover {\n",
              "      background-color: #434B5C;\n",
              "      box-shadow: 0px 1px 3px 1px rgba(0, 0, 0, 0.15);\n",
              "      filter: drop-shadow(0px 1px 2px rgba(0, 0, 0, 0.3));\n",
              "      fill: #FFFFFF;\n",
              "    }\n",
              "  </style>\n",
              "\n",
              "    <script>\n",
              "      const buttonEl =\n",
              "        document.querySelector('#df-c5cdca97-d293-4ca4-92d9-f9c736c4b7bb button.colab-df-convert');\n",
              "      buttonEl.style.display =\n",
              "        google.colab.kernel.accessAllowed ? 'block' : 'none';\n",
              "\n",
              "      async function convertToInteractive(key) {\n",
              "        const element = document.querySelector('#df-c5cdca97-d293-4ca4-92d9-f9c736c4b7bb');\n",
              "        const dataTable =\n",
              "          await google.colab.kernel.invokeFunction('convertToInteractive',\n",
              "                                                    [key], {});\n",
              "        if (!dataTable) return;\n",
              "\n",
              "        const docLinkHtml = 'Like what you see? Visit the ' +\n",
              "          '<a target=\"_blank\" href=https://colab.research.google.com/notebooks/data_table.ipynb>data table notebook</a>'\n",
              "          + ' to learn more about interactive tables.';\n",
              "        element.innerHTML = '';\n",
              "        dataTable['output_type'] = 'display_data';\n",
              "        await google.colab.output.renderOutput(dataTable, element);\n",
              "        const docLink = document.createElement('div');\n",
              "        docLink.innerHTML = docLinkHtml;\n",
              "        element.appendChild(docLink);\n",
              "      }\n",
              "    </script>\n",
              "  </div>\n",
              "\n",
              "\n",
              "<div id=\"df-eda3c21a-2406-4e04-99ac-3bbe929b979d\">\n",
              "  <button class=\"colab-df-quickchart\" onclick=\"quickchart('df-eda3c21a-2406-4e04-99ac-3bbe929b979d')\"\n",
              "            title=\"Suggest charts\"\n",
              "            style=\"display:none;\">\n",
              "\n",
              "<svg xmlns=\"http://www.w3.org/2000/svg\" height=\"24px\"viewBox=\"0 0 24 24\"\n",
              "     width=\"24px\">\n",
              "    <g>\n",
              "        <path d=\"M19 3H5c-1.1 0-2 .9-2 2v14c0 1.1.9 2 2 2h14c1.1 0 2-.9 2-2V5c0-1.1-.9-2-2-2zM9 17H7v-7h2v7zm4 0h-2V7h2v10zm4 0h-2v-4h2v4z\"/>\n",
              "    </g>\n",
              "</svg>\n",
              "  </button>\n",
              "\n",
              "<style>\n",
              "  .colab-df-quickchart {\n",
              "      --bg-color: #E8F0FE;\n",
              "      --fill-color: #1967D2;\n",
              "      --hover-bg-color: #E2EBFA;\n",
              "      --hover-fill-color: #174EA6;\n",
              "      --disabled-fill-color: #AAA;\n",
              "      --disabled-bg-color: #DDD;\n",
              "  }\n",
              "\n",
              "  [theme=dark] .colab-df-quickchart {\n",
              "      --bg-color: #3B4455;\n",
              "      --fill-color: #D2E3FC;\n",
              "      --hover-bg-color: #434B5C;\n",
              "      --hover-fill-color: #FFFFFF;\n",
              "      --disabled-bg-color: #3B4455;\n",
              "      --disabled-fill-color: #666;\n",
              "  }\n",
              "\n",
              "  .colab-df-quickchart {\n",
              "    background-color: var(--bg-color);\n",
              "    border: none;\n",
              "    border-radius: 50%;\n",
              "    cursor: pointer;\n",
              "    display: none;\n",
              "    fill: var(--fill-color);\n",
              "    height: 32px;\n",
              "    padding: 0;\n",
              "    width: 32px;\n",
              "  }\n",
              "\n",
              "  .colab-df-quickchart:hover {\n",
              "    background-color: var(--hover-bg-color);\n",
              "    box-shadow: 0 1px 2px rgba(60, 64, 67, 0.3), 0 1px 3px 1px rgba(60, 64, 67, 0.15);\n",
              "    fill: var(--button-hover-fill-color);\n",
              "  }\n",
              "\n",
              "  .colab-df-quickchart-complete:disabled,\n",
              "  .colab-df-quickchart-complete:disabled:hover {\n",
              "    background-color: var(--disabled-bg-color);\n",
              "    fill: var(--disabled-fill-color);\n",
              "    box-shadow: none;\n",
              "  }\n",
              "\n",
              "  .colab-df-spinner {\n",
              "    border: 2px solid var(--fill-color);\n",
              "    border-color: transparent;\n",
              "    border-bottom-color: var(--fill-color);\n",
              "    animation:\n",
              "      spin 1s steps(1) infinite;\n",
              "  }\n",
              "\n",
              "  @keyframes spin {\n",
              "    0% {\n",
              "      border-color: transparent;\n",
              "      border-bottom-color: var(--fill-color);\n",
              "      border-left-color: var(--fill-color);\n",
              "    }\n",
              "    20% {\n",
              "      border-color: transparent;\n",
              "      border-left-color: var(--fill-color);\n",
              "      border-top-color: var(--fill-color);\n",
              "    }\n",
              "    30% {\n",
              "      border-color: transparent;\n",
              "      border-left-color: var(--fill-color);\n",
              "      border-top-color: var(--fill-color);\n",
              "      border-right-color: var(--fill-color);\n",
              "    }\n",
              "    40% {\n",
              "      border-color: transparent;\n",
              "      border-right-color: var(--fill-color);\n",
              "      border-top-color: var(--fill-color);\n",
              "    }\n",
              "    60% {\n",
              "      border-color: transparent;\n",
              "      border-right-color: var(--fill-color);\n",
              "    }\n",
              "    80% {\n",
              "      border-color: transparent;\n",
              "      border-right-color: var(--fill-color);\n",
              "      border-bottom-color: var(--fill-color);\n",
              "    }\n",
              "    90% {\n",
              "      border-color: transparent;\n",
              "      border-bottom-color: var(--fill-color);\n",
              "    }\n",
              "  }\n",
              "</style>\n",
              "\n",
              "  <script>\n",
              "    async function quickchart(key) {\n",
              "      const quickchartButtonEl =\n",
              "        document.querySelector('#' + key + ' button');\n",
              "      quickchartButtonEl.disabled = true;  // To prevent multiple clicks.\n",
              "      quickchartButtonEl.classList.add('colab-df-spinner');\n",
              "      try {\n",
              "        const charts = await google.colab.kernel.invokeFunction(\n",
              "            'suggestCharts', [key], {});\n",
              "      } catch (error) {\n",
              "        console.error('Error during call to suggestCharts:', error);\n",
              "      }\n",
              "      quickchartButtonEl.classList.remove('colab-df-spinner');\n",
              "      quickchartButtonEl.classList.add('colab-df-quickchart-complete');\n",
              "    }\n",
              "    (() => {\n",
              "      let quickchartButtonEl =\n",
              "        document.querySelector('#df-eda3c21a-2406-4e04-99ac-3bbe929b979d button');\n",
              "      quickchartButtonEl.style.display =\n",
              "        google.colab.kernel.accessAllowed ? 'block' : 'none';\n",
              "    })();\n",
              "  </script>\n",
              "</div>\n",
              "    </div>\n",
              "  </div>\n"
            ]
          },
          "metadata": {},
          "execution_count": 2
        }
      ],
      "source": [
        "df = pd.read_csv('/content/drive/MyDrive/hatespeech/cyberbullying_training_dataset.csv')\n",
        "df.dropna(inplace = True)\n",
        "df.reset_index(drop = True)"
      ]
    },
    {
      "cell_type": "code",
      "execution_count": null,
      "metadata": {
        "id": "FIL7Ff-WiEDQ"
      },
      "outputs": [],
      "source": [
        "df.transformed_text = df.transformed_text.astype('str')"
      ]
    },
    {
      "cell_type": "code",
      "execution_count": null,
      "metadata": {
        "id": "a8IeKl1ciG5g"
      },
      "outputs": [],
      "source": [
        "from sklearn.feature_extraction.text import CountVectorizer"
      ]
    },
    {
      "cell_type": "code",
      "execution_count": null,
      "metadata": {
        "id": "L3tr2agYiLr7"
      },
      "outputs": [],
      "source": [
        "cv = CountVectorizer(max_features = 3000)"
      ]
    },
    {
      "cell_type": "code",
      "execution_count": null,
      "metadata": {
        "colab": {
          "base_uri": "https://localhost:8080/"
        },
        "id": "lnlVD-UliOT5",
        "outputId": "88dd316b-0c92-447b-b628-15a00c08e5cb"
      },
      "outputs": [
        {
          "output_type": "execute_result",
          "data": {
            "text/plain": [
              "3000"
            ]
          },
          "metadata": {},
          "execution_count": 6
        }
      ],
      "source": [
        "len(cv.fit_transform(df['transformed_text']).toarray()[0])"
      ]
    },
    {
      "cell_type": "code",
      "execution_count": null,
      "metadata": {
        "id": "5c_aF6OpiRv1"
      },
      "outputs": [],
      "source": [
        "X = cv.fit_transform(df['transformed_text']).toarray()"
      ]
    },
    {
      "cell_type": "code",
      "execution_count": null,
      "metadata": {
        "colab": {
          "base_uri": "https://localhost:8080/"
        },
        "id": "eP_hTPlViVq4",
        "outputId": "2343885e-e0e4-488d-dc41-1f9956e9698d"
      },
      "outputs": [
        {
          "output_type": "execute_result",
          "data": {
            "text/plain": [
              "(115659, 3000)"
            ]
          },
          "metadata": {},
          "execution_count": 8
        }
      ],
      "source": [
        "X.shape"
      ]
    },
    {
      "cell_type": "code",
      "execution_count": null,
      "metadata": {
        "id": "TuqOBch6iZOD"
      },
      "outputs": [],
      "source": [
        "y = df['hate'].values"
      ]
    },
    {
      "cell_type": "code",
      "execution_count": null,
      "metadata": {
        "id": "XyjdOtpMibh7"
      },
      "outputs": [],
      "source": [
        "from sklearn.model_selection import train_test_split"
      ]
    },
    {
      "cell_type": "code",
      "execution_count": null,
      "metadata": {
        "id": "Ux7DXGOHidla"
      },
      "outputs": [],
      "source": [
        "X_train,X_test,y_train,y_test = train_test_split(X,y,test_size=0.2,random_state=2)"
      ]
    },
    {
      "cell_type": "code",
      "execution_count": null,
      "metadata": {
        "id": "biKchg5lifj1"
      },
      "outputs": [],
      "source": [
        "from sklearn.naive_bayes import GaussianNB,MultinomialNB,BernoulliNB\n",
        "from sklearn.metrics import accuracy_score,confusion_matrix,precision_score, f1_score, recall_score"
      ]
    },
    {
      "cell_type": "code",
      "execution_count": null,
      "metadata": {
        "id": "g8J1jCcxiiL5"
      },
      "outputs": [],
      "source": [
        "gnb = GaussianNB()\n",
        "mnb = MultinomialNB()\n",
        "bnb = BernoulliNB()"
      ]
    },
    {
      "cell_type": "code",
      "execution_count": null,
      "metadata": {
        "colab": {
          "base_uri": "https://localhost:8080/"
        },
        "id": "0YEoN0I7jv4a",
        "outputId": "878e2f8d-23d6-4f68-d87b-4a68e7be6101"
      },
      "outputs": [
        {
          "output_type": "stream",
          "name": "stdout",
          "text": [
            "accuracy score: 0.7186581359156148\n",
            "precision score: 0.7008539922062847\n",
            "f1 score: 0.7220466387631332\n",
            "recall_score: 0.7445609090108342\n"
          ]
        }
      ],
      "source": [
        "gnb.fit(X_train,y_train)\n",
        "y_pred1 = gnb.predict(X_test)\n",
        "print(f'accuracy score: {accuracy_score(y_test,y_pred1)}')\n",
        "print(f'precision score: {precision_score(y_test,y_pred1)}')\n",
        "print(f'f1 score: {f1_score(y_test,y_pred1)}')\n",
        "print(f'recall_score: {recall_score(y_test,y_pred1)}')"
      ]
    },
    {
      "cell_type": "code",
      "execution_count": null,
      "metadata": {
        "colab": {
          "base_uri": "https://localhost:8080/"
        },
        "id": "OlQibUlMjyoo",
        "outputId": "dbe002f4-744d-4449-95e7-a09e6dbe5ac9"
      },
      "outputs": [
        {
          "output_type": "stream",
          "name": "stdout",
          "text": [
            "accuracy score: 0.725661421407574\n",
            "precision score: 0.7410688493018777\n",
            "f1 score: 0.7080688195786181\n",
            "recall_score: 0.6778824980181449\n"
          ]
        }
      ],
      "source": [
        "mnb.fit(X_train,y_train)\n",
        "y_pred2 = mnb.predict(X_test)\n",
        "print(f'accuracy score: {accuracy_score(y_test,y_pred2)}')\n",
        "print(f'precision score: {precision_score(y_test,y_pred2)}')\n",
        "print(f'f1 score: {f1_score(y_test,y_pred2)}')\n",
        "print(f'recall_score: {recall_score(y_test,y_pred2)}')"
      ]
    },
    {
      "cell_type": "code",
      "execution_count": null,
      "metadata": {
        "id": "uhghXBcskHNx"
      },
      "outputs": [],
      "source": [
        "from sklearn.linear_model import LogisticRegression\n",
        "lrc = LogisticRegression(solver='liblinear', penalty='l1')"
      ]
    },
    {
      "cell_type": "code",
      "execution_count": null,
      "metadata": {
        "colab": {
          "base_uri": "https://localhost:8080/"
        },
        "id": "rX-Nd0vykLdm",
        "outputId": "91df38da-fcae-4f7f-9b54-e579040c7ae4"
      },
      "outputs": [
        {
          "output_type": "stream",
          "name": "stdout",
          "text": [
            "accuracy score: 0.7786615943282034\n",
            "precision score: 0.8404894570086311\n",
            "f1 score: 0.7503169803959816\n",
            "recall_score: 0.6776182506826389\n"
          ]
        }
      ],
      "source": [
        "lrc.fit(X_train,y_train)\n",
        "y_pred3 = lrc.predict(X_test)\n",
        "print(f'accuracy score: {accuracy_score(y_test,y_pred3)}')\n",
        "print(f'precision score: {precision_score(y_test,y_pred3)}')\n",
        "print(f'f1 score: {f1_score(y_test,y_pred3)}')\n",
        "print(f'recall_score: {recall_score(y_test,y_pred3)}')"
      ]
    },
    {
      "cell_type": "code",
      "execution_count": null,
      "metadata": {
        "id": "FogjxKyknw07"
      },
      "outputs": [],
      "source": [
        "from sklearn.tree import DecisionTreeClassifier\n",
        "from sklearn.neighbors import KNeighborsClassifier\n",
        "from sklearn.ensemble import RandomForestClassifier"
      ]
    },
    {
      "cell_type": "code",
      "execution_count": null,
      "metadata": {
        "id": "mdS8NggTlwGO"
      },
      "outputs": [],
      "source": [
        "knc = KNeighborsClassifier()\n",
        "dtc = DecisionTreeClassifier(max_depth=5)"
      ]
    },
    {
      "cell_type": "code",
      "execution_count": null,
      "metadata": {
        "id": "bWBw6HeRl0WS",
        "colab": {
          "base_uri": "https://localhost:8080/"
        },
        "outputId": "6a83c798-9327-4fbf-f0c6-7f8d506940ea"
      },
      "outputs": [
        {
          "output_type": "stream",
          "name": "stdout",
          "text": [
            "accuracy score: 0.6417084558187792\n",
            "precision score: 0.9967585089141004\n",
            "f1 score: 0.4259592741376922\n",
            "recall_score: 0.2708535188936845\n"
          ]
        }
      ],
      "source": [
        "dtc.fit(X_train,y_train)\n",
        "y_pred4 = dtc.predict(X_test)\n",
        "print(f'accuracy score: {accuracy_score(y_test,y_pred4)}')\n",
        "print(f'precision score: {precision_score(y_test,y_pred4)}')\n",
        "print(f'f1 score: {f1_score(y_test,y_pred4)}')\n",
        "print(f'recall_score: {recall_score(y_test,y_pred4)}')"
      ]
    },
    {
      "cell_type": "code",
      "execution_count": null,
      "metadata": {
        "id": "By85wKhGlhxA"
      },
      "outputs": [],
      "source": [
        "rfc = RandomForestClassifier()"
      ]
    },
    {
      "cell_type": "code",
      "execution_count": null,
      "metadata": {
        "colab": {
          "base_uri": "https://localhost:8080/"
        },
        "id": "BEMcUtCeoPF2",
        "outputId": "41cafb03-cf81-4430-be48-d130d3700ebc"
      },
      "outputs": [
        {
          "output_type": "stream",
          "name": "stdout",
          "text": [
            "accuracy score: 0.7765433166176725\n",
            "precision score: 0.8020711215318483\n",
            "f1 score: 0.7605725137801659\n",
            "recall_score: 0.7231568748348454\n"
          ]
        }
      ],
      "source": [
        "rfc.fit(X_train,y_train)\n",
        "y_pred5 = rfc.predict(X_test)\n",
        "print(f'accuracy score: {accuracy_score(y_test,y_pred5)}')\n",
        "print(f'precision score: {precision_score(y_test,y_pred5)}')\n",
        "print(f'f1 score: {f1_score(y_test,y_pred5)}')\n",
        "print(f'recall_score: {recall_score(y_test,y_pred5)}')"
      ]
    },
    {
      "cell_type": "code",
      "execution_count": null,
      "metadata": {
        "id": "EdIiCqgsoaxl"
      },
      "outputs": [],
      "source": [
        "from sklearn.ensemble import AdaBoostClassifier\n",
        "from sklearn.ensemble import BaggingClassifier\n",
        "from sklearn.ensemble import ExtraTreesClassifier\n",
        "from sklearn.ensemble import GradientBoostingClassifier\n",
        "from xgboost import XGBClassifier"
      ]
    },
    {
      "cell_type": "code",
      "source": [
        "abc = AdaBoostClassifier(n_estimators = 50 ,random_state=2)\n",
        "bc = BaggingClassifier(n_estimators = 50 ,random_state=2)\n",
        "etc = ExtraTreesClassifier(n_estimators = 50 ,random_state=2)\n",
        "gbdt = GradientBoostingClassifier(n_estimators = 50 ,random_state=2)\n",
        "xgb = XGBClassifier(n_estimators = 50 ,random_state=2)"
      ],
      "metadata": {
        "id": "0yZJujtXNIbT"
      },
      "execution_count": null,
      "outputs": []
    },
    {
      "cell_type": "code",
      "source": [
        "abc.fit(X_train,y_train)\n",
        "y_pred6 = abc.predict(X_test)\n",
        "print(f'accuracy score: {accuracy_score(y_test,y_pred6)}')\n",
        "print(f'precision score: {precision_score(y_test,y_pred6)}')\n",
        "print(f'f1 score: {f1_score(y_test,y_pred6)}')\n",
        "print(f'recall_score: {recall_score(y_test,y_pred6)}')"
      ],
      "metadata": {
        "colab": {
          "base_uri": "https://localhost:8080/"
        },
        "id": "pYkm2_8gNNXz",
        "outputId": "aca82a0b-086e-4bb5-e05b-f7f14c080f63"
      },
      "execution_count": null,
      "outputs": [
        {
          "output_type": "stream",
          "name": "stdout",
          "text": [
            "accuracy score: 0.7184852152861836\n",
            "precision score: 0.8971287940935193\n",
            "f1 score: 0.6267767079321412\n",
            "recall_score: 0.4816348101823307\n"
          ]
        }
      ]
    },
    {
      "cell_type": "code",
      "source": [
        "etc.fit(X_train,y_train)\n",
        "y_pred7 = etc.predict(X_test)\n",
        "print(f'accuracy score: {accuracy_score(y_test,y_pred7)}')\n",
        "print(f'precision score: {precision_score(y_test,y_pred7)}')\n",
        "print(f'f1 score: {f1_score(y_test,y_pred7)}')\n",
        "print(f'recall_score: {recall_score(y_test,y_pred7)}')"
      ],
      "metadata": {
        "colab": {
          "base_uri": "https://localhost:8080/"
        },
        "id": "sP0rQRypNRJ_",
        "outputId": "8330480d-81fb-4c2a-b700-e2cd5cb97044"
      },
      "execution_count": null,
      "outputs": [
        {
          "output_type": "stream",
          "name": "stdout",
          "text": [
            "accuracy score: 0.7772782292927546\n",
            "precision score: 0.806524962926347\n",
            "f1 score: 0.7600149059064654\n",
            "recall_score: 0.7185765876860741\n"
          ]
        }
      ]
    },
    {
      "cell_type": "code",
      "source": [
        "# gbdt.fit(X_train,y_train)\n",
        "# y_pred8 = gbdt.predict(X_test)\n",
        "# print(f'accuracy score: {accuracy_score(y_test,y_pred8)}')\n",
        "# print(f'precision score: {precision_score(y_test,y_pred8)}')\n",
        "# print(f'f1 score: {f1_score(y_test,y_pred8)}')\n",
        "# print(f'recall_score: {recall_score(y_test,y_pred8)}')\n",
        "\n",
        "\n"
      ],
      "metadata": {
        "id": "CpWH1GrYNToN"
      },
      "execution_count": null,
      "outputs": []
    },
    {
      "cell_type": "code",
      "source": [
        "xgb.fit(X_train,y_train)\n",
        "y_pred9 = xgb.predict(X_test)\n",
        "print(f'accuracy score: {accuracy_score(y_test,y_pred9)}')\n",
        "print(f'precision score: {precision_score(y_test,y_pred9)}')\n",
        "print(f'f1 score: {f1_score(y_test,y_pred9)}')\n",
        "print(f'recall_score: {recall_score(y_test,y_pred9)}')"
      ],
      "metadata": {
        "colab": {
          "base_uri": "https://localhost:8080/"
        },
        "id": "KsCyPvosYN9p",
        "outputId": "09d8dc31-5503-4c3e-c046-cc02921f5f88"
      },
      "execution_count": null,
      "outputs": [
        {
          "output_type": "stream",
          "name": "stdout",
          "text": [
            "accuracy score: 0.7630987376794052\n",
            "precision score: 0.8965563808237678\n",
            "f1 score: 0.7078579805949461\n",
            "recall_score: 0.5847793534748524\n"
          ]
        }
      ]
    },
    {
      "cell_type": "code",
      "source": [
        "# from sklearn.ensemble import VotingClassifier"
      ],
      "metadata": {
        "id": "TmfIbxo7cL0Y"
      },
      "execution_count": null,
      "outputs": []
    },
    {
      "cell_type": "code",
      "source": [
        "# abc = AdaBoostClassifier(random_state=2)\n",
        "# etc = ExtraTreesClassifier(n_estimators = 150 ,random_state=2)\n",
        "# xgb = XGBClassifier(random_state=2)"
      ],
      "metadata": {
        "id": "s32N2OjmAs-r"
      },
      "execution_count": null,
      "outputs": []
    },
    {
      "cell_type": "code",
      "source": [
        "# voting = VotingClassifier(estimators=[('mnb', mnb), ('lrc', lrc), ('rfc', rfc),('etc', etc),('abc', abc)],voting='soft')\n"
      ],
      "metadata": {
        "id": "RzxnRDtkyLd4"
      },
      "execution_count": null,
      "outputs": []
    },
    {
      "cell_type": "code",
      "source": [
        "# voting.fit(X_train,y_train)"
      ],
      "metadata": {
        "colab": {
          "base_uri": "https://localhost:8080/",
          "height": 108
        },
        "id": "IiKNCPiGy1xz",
        "outputId": "49a73953-9adf-4058-e826-9b2f58cfdd15"
      },
      "execution_count": null,
      "outputs": [
        {
          "output_type": "execute_result",
          "data": {
            "text/plain": [
              "VotingClassifier(estimators=[('mnb', MultinomialNB()),\n",
              "                             ('lrc',\n",
              "                              LogisticRegression(penalty='l1',\n",
              "                                                 solver='liblinear')),\n",
              "                             ('rfc', RandomForestClassifier()),\n",
              "                             ('etc',\n",
              "                              ExtraTreesClassifier(n_estimators=150,\n",
              "                                                   random_state=2)),\n",
              "                             ('abc', AdaBoostClassifier(random_state=2))],\n",
              "                 voting='soft')"
            ],
            "text/html": [
              "<style>#sk-container-id-2 {color: black;background-color: white;}#sk-container-id-2 pre{padding: 0;}#sk-container-id-2 div.sk-toggleable {background-color: white;}#sk-container-id-2 label.sk-toggleable__label {cursor: pointer;display: block;width: 100%;margin-bottom: 0;padding: 0.3em;box-sizing: border-box;text-align: center;}#sk-container-id-2 label.sk-toggleable__label-arrow:before {content: \"▸\";float: left;margin-right: 0.25em;color: #696969;}#sk-container-id-2 label.sk-toggleable__label-arrow:hover:before {color: black;}#sk-container-id-2 div.sk-estimator:hover label.sk-toggleable__label-arrow:before {color: black;}#sk-container-id-2 div.sk-toggleable__content {max-height: 0;max-width: 0;overflow: hidden;text-align: left;background-color: #f0f8ff;}#sk-container-id-2 div.sk-toggleable__content pre {margin: 0.2em;color: black;border-radius: 0.25em;background-color: #f0f8ff;}#sk-container-id-2 input.sk-toggleable__control:checked~div.sk-toggleable__content {max-height: 200px;max-width: 100%;overflow: auto;}#sk-container-id-2 input.sk-toggleable__control:checked~label.sk-toggleable__label-arrow:before {content: \"▾\";}#sk-container-id-2 div.sk-estimator input.sk-toggleable__control:checked~label.sk-toggleable__label {background-color: #d4ebff;}#sk-container-id-2 div.sk-label input.sk-toggleable__control:checked~label.sk-toggleable__label {background-color: #d4ebff;}#sk-container-id-2 input.sk-hidden--visually {border: 0;clip: rect(1px 1px 1px 1px);clip: rect(1px, 1px, 1px, 1px);height: 1px;margin: -1px;overflow: hidden;padding: 0;position: absolute;width: 1px;}#sk-container-id-2 div.sk-estimator {font-family: monospace;background-color: #f0f8ff;border: 1px dotted black;border-radius: 0.25em;box-sizing: border-box;margin-bottom: 0.5em;}#sk-container-id-2 div.sk-estimator:hover {background-color: #d4ebff;}#sk-container-id-2 div.sk-parallel-item::after {content: \"\";width: 100%;border-bottom: 1px solid gray;flex-grow: 1;}#sk-container-id-2 div.sk-label:hover label.sk-toggleable__label {background-color: #d4ebff;}#sk-container-id-2 div.sk-serial::before {content: \"\";position: absolute;border-left: 1px solid gray;box-sizing: border-box;top: 0;bottom: 0;left: 50%;z-index: 0;}#sk-container-id-2 div.sk-serial {display: flex;flex-direction: column;align-items: center;background-color: white;padding-right: 0.2em;padding-left: 0.2em;position: relative;}#sk-container-id-2 div.sk-item {position: relative;z-index: 1;}#sk-container-id-2 div.sk-parallel {display: flex;align-items: stretch;justify-content: center;background-color: white;position: relative;}#sk-container-id-2 div.sk-item::before, #sk-container-id-2 div.sk-parallel-item::before {content: \"\";position: absolute;border-left: 1px solid gray;box-sizing: border-box;top: 0;bottom: 0;left: 50%;z-index: -1;}#sk-container-id-2 div.sk-parallel-item {display: flex;flex-direction: column;z-index: 1;position: relative;background-color: white;}#sk-container-id-2 div.sk-parallel-item:first-child::after {align-self: flex-end;width: 50%;}#sk-container-id-2 div.sk-parallel-item:last-child::after {align-self: flex-start;width: 50%;}#sk-container-id-2 div.sk-parallel-item:only-child::after {width: 0;}#sk-container-id-2 div.sk-dashed-wrapped {border: 1px dashed gray;margin: 0 0.4em 0.5em 0.4em;box-sizing: border-box;padding-bottom: 0.4em;background-color: white;}#sk-container-id-2 div.sk-label label {font-family: monospace;font-weight: bold;display: inline-block;line-height: 1.2em;}#sk-container-id-2 div.sk-label-container {text-align: center;}#sk-container-id-2 div.sk-container {/* jupyter's `normalize.less` sets `[hidden] { display: none; }` but bootstrap.min.css set `[hidden] { display: none !important; }` so we also need the `!important` here to be able to override the default hidden behavior on the sphinx rendered scikit-learn.org. See: https://github.com/scikit-learn/scikit-learn/issues/21755 */display: inline-block !important;position: relative;}#sk-container-id-2 div.sk-text-repr-fallback {display: none;}</style><div id=\"sk-container-id-2\" class=\"sk-top-container\"><div class=\"sk-text-repr-fallback\"><pre>VotingClassifier(estimators=[(&#x27;mnb&#x27;, MultinomialNB()),\n",
              "                             (&#x27;lrc&#x27;,\n",
              "                              LogisticRegression(penalty=&#x27;l1&#x27;,\n",
              "                                                 solver=&#x27;liblinear&#x27;)),\n",
              "                             (&#x27;rfc&#x27;, RandomForestClassifier()),\n",
              "                             (&#x27;etc&#x27;,\n",
              "                              ExtraTreesClassifier(n_estimators=150,\n",
              "                                                   random_state=2)),\n",
              "                             (&#x27;abc&#x27;, AdaBoostClassifier(random_state=2))],\n",
              "                 voting=&#x27;soft&#x27;)</pre><b>In a Jupyter environment, please rerun this cell to show the HTML representation or trust the notebook. <br />On GitHub, the HTML representation is unable to render, please try loading this page with nbviewer.org.</b></div><div class=\"sk-container\" hidden><div class=\"sk-item sk-dashed-wrapped\"><div class=\"sk-label-container\"><div class=\"sk-label sk-toggleable\"><input class=\"sk-toggleable__control sk-hidden--visually\" id=\"sk-estimator-id-6\" type=\"checkbox\" ><label for=\"sk-estimator-id-6\" class=\"sk-toggleable__label sk-toggleable__label-arrow\">VotingClassifier</label><div class=\"sk-toggleable__content\"><pre>VotingClassifier(estimators=[(&#x27;mnb&#x27;, MultinomialNB()),\n",
              "                             (&#x27;lrc&#x27;,\n",
              "                              LogisticRegression(penalty=&#x27;l1&#x27;,\n",
              "                                                 solver=&#x27;liblinear&#x27;)),\n",
              "                             (&#x27;rfc&#x27;, RandomForestClassifier()),\n",
              "                             (&#x27;etc&#x27;,\n",
              "                              ExtraTreesClassifier(n_estimators=150,\n",
              "                                                   random_state=2)),\n",
              "                             (&#x27;abc&#x27;, AdaBoostClassifier(random_state=2))],\n",
              "                 voting=&#x27;soft&#x27;)</pre></div></div></div><div class=\"sk-parallel\"><div class=\"sk-parallel-item\"><div class=\"sk-item\"><div class=\"sk-label-container\"><div class=\"sk-label sk-toggleable\"><label>mnb</label></div></div><div class=\"sk-serial\"><div class=\"sk-item\"><div class=\"sk-estimator sk-toggleable\"><input class=\"sk-toggleable__control sk-hidden--visually\" id=\"sk-estimator-id-7\" type=\"checkbox\" ><label for=\"sk-estimator-id-7\" class=\"sk-toggleable__label sk-toggleable__label-arrow\">MultinomialNB</label><div class=\"sk-toggleable__content\"><pre>MultinomialNB()</pre></div></div></div></div></div></div><div class=\"sk-parallel-item\"><div class=\"sk-item\"><div class=\"sk-label-container\"><div class=\"sk-label sk-toggleable\"><label>lrc</label></div></div><div class=\"sk-serial\"><div class=\"sk-item\"><div class=\"sk-estimator sk-toggleable\"><input class=\"sk-toggleable__control sk-hidden--visually\" id=\"sk-estimator-id-8\" type=\"checkbox\" ><label for=\"sk-estimator-id-8\" class=\"sk-toggleable__label sk-toggleable__label-arrow\">LogisticRegression</label><div class=\"sk-toggleable__content\"><pre>LogisticRegression(penalty=&#x27;l1&#x27;, solver=&#x27;liblinear&#x27;)</pre></div></div></div></div></div></div><div class=\"sk-parallel-item\"><div class=\"sk-item\"><div class=\"sk-label-container\"><div class=\"sk-label sk-toggleable\"><label>rfc</label></div></div><div class=\"sk-serial\"><div class=\"sk-item\"><div class=\"sk-estimator sk-toggleable\"><input class=\"sk-toggleable__control sk-hidden--visually\" id=\"sk-estimator-id-9\" type=\"checkbox\" ><label for=\"sk-estimator-id-9\" class=\"sk-toggleable__label sk-toggleable__label-arrow\">RandomForestClassifier</label><div class=\"sk-toggleable__content\"><pre>RandomForestClassifier()</pre></div></div></div></div></div></div><div class=\"sk-parallel-item\"><div class=\"sk-item\"><div class=\"sk-label-container\"><div class=\"sk-label sk-toggleable\"><label>etc</label></div></div><div class=\"sk-serial\"><div class=\"sk-item\"><div class=\"sk-estimator sk-toggleable\"><input class=\"sk-toggleable__control sk-hidden--visually\" id=\"sk-estimator-id-10\" type=\"checkbox\" ><label for=\"sk-estimator-id-10\" class=\"sk-toggleable__label sk-toggleable__label-arrow\">ExtraTreesClassifier</label><div class=\"sk-toggleable__content\"><pre>ExtraTreesClassifier(n_estimators=150, random_state=2)</pre></div></div></div></div></div></div><div class=\"sk-parallel-item\"><div class=\"sk-item\"><div class=\"sk-label-container\"><div class=\"sk-label sk-toggleable\"><label>abc</label></div></div><div class=\"sk-serial\"><div class=\"sk-item\"><div class=\"sk-estimator sk-toggleable\"><input class=\"sk-toggleable__control sk-hidden--visually\" id=\"sk-estimator-id-11\" type=\"checkbox\" ><label for=\"sk-estimator-id-11\" class=\"sk-toggleable__label sk-toggleable__label-arrow\">AdaBoostClassifier</label><div class=\"sk-toggleable__content\"><pre>AdaBoostClassifier(random_state=2)</pre></div></div></div></div></div></div></div></div></div></div>"
            ]
          },
          "metadata": {},
          "execution_count": 41
        }
      ]
    },
    {
      "cell_type": "code",
      "source": [
        "# y_pred = voting.predict(X_test)\n",
        "# print(\"Accuracy\",accuracy_score(y_test,y_pred))\n",
        "# print(\"Precision\",precision_score(y_test,y_pred))\n",
        "# print(\"f1 score\",f1_score(y_test,y_pred))\n",
        "# print(\"recall score\",recall_score(y_test,y_pred))\n",
        "# print(\"confusion matrix\",confusion_matrix(y_test,y_pred))"
      ],
      "metadata": {
        "id": "itdMx39ly513"
      },
      "execution_count": null,
      "outputs": []
    },
    {
      "cell_type": "code",
      "source": [
        "import pickle"
      ],
      "metadata": {
        "id": "DfnNMAOxbNwr"
      },
      "execution_count": null,
      "outputs": []
    },
    {
      "cell_type": "code",
      "source": [
        "# pickle.dump(cv,open('/content/drive/MyDrive/cyberbulling/CountVector/cv_vectorizer.pkl','wb'))\n",
        "# pickle.dump(gnb,open('/content/drive/MyDrive/cyberbulling/CountVector/gnb2_model.pkl','wb'))\n",
        "# pickle.dump(mnb,open('/content/drive/MyDrive/cyberbulling/CountVector/mnb2_model.pkl','wb'))\n",
        "# pickle.dump(lrc,open('/content/drive/MyDrive/cyberbulling/CountVector/lrc2_model.pkl','wb'))\n",
        "# pickle.dump(dtc,open('/content/drive/MyDrive/cyberbulling/CountVector/dtc2_model.pkl','wb'))\n",
        "# pickle.dump(rfc,open('/content/drive/MyDrive/cyberbulling/CountVector/rfc2_model.pkl','wb'))\n",
        "# pickle.dump(abc,open('/content/drive/MyDrive/cyberbulling/CountVector/abc2_model.pkl','wb'))\n",
        "# pickle.dump(etc,open('/content/drive/MyDrive/cyberbulling/CountVector/etc2_model.pkl','wb'))\n",
        "# pickle.dump(gbdt,open('/content/drive/MyDrive/cyberbulling/CountVector/gbdt2_model.pkl','wb'))\n",
        "# pickle.dump(xgb,open('/content/drive/MyDrive/cyberbulling/CountVector/xgb2_model.pkl','wb'))\n",
        "# pickle.dump(voting,open('/content/drive/MyDrive/cyberbulling/CountVector/voting_model.pkl','wb'))"
      ],
      "metadata": {
        "id": "Euyy-3zZbWW8"
      },
      "execution_count": null,
      "outputs": []
    },
    {
      "cell_type": "code",
      "source": [
        "# from sklearn.ensemble import StackingClassifier"
      ],
      "metadata": {
        "id": "PCnZ2h0jcbar"
      },
      "execution_count": null,
      "outputs": []
    },
    {
      "cell_type": "code",
      "source": [
        "# Applying stacking\n",
        "# estimators=[('mnb', mnb), ('lrc', lrc), ('etc', etc)]\n",
        "# final_estimator=RandomForestClassifier(n_estimators = 50)"
      ],
      "metadata": {
        "id": "QKEiiACZc8rn"
      },
      "execution_count": null,
      "outputs": []
    },
    {
      "cell_type": "code",
      "source": [
        "# stacking = StackingClassifier(estimators=estimators, final_estimator=final_estimator)"
      ],
      "metadata": {
        "id": "k-Qom9S0c0L2"
      },
      "execution_count": null,
      "outputs": []
    },
    {
      "cell_type": "code",
      "source": [
        "# stacking.fit(X_train,y_train)\n",
        "# y_preds = stacking.predict(X_test)\n",
        "# print(\"Accuracy\",accuracy_score(y_test,y_preds))\n",
        "# print(\"Precision\",precision_score(y_test,y_preds))\n",
        "# print(\"f1 score\",f1_score(y_test,y_preds))\n",
        "# print(\"recall score\",recall_score(y_test,y_preds))\n",
        "# print(\"confusion matrix\",confusion_matrix(y_test,y_preds))"
      ],
      "metadata": {
        "id": "YZ98KuRPdZ1J"
      },
      "execution_count": null,
      "outputs": []
    },
    {
      "cell_type": "code",
      "source": [],
      "metadata": {
        "id": "kc61PiHBdnER"
      },
      "execution_count": null,
      "outputs": []
    }
  ],
  "metadata": {
    "colab": {
      "provenance": [],
      "mount_file_id": "1VskYKDvty2lmjDi-b5cpWVQkscpuu8Z2",
      "authorship_tag": "ABX9TyPZyZlRewVfcsCclbfyLn+4",
      "include_colab_link": true
    },
    "kernelspec": {
      "display_name": "Python 3",
      "name": "python3"
    },
    "language_info": {
      "name": "python"
    }
  },
  "nbformat": 4,
  "nbformat_minor": 0
}