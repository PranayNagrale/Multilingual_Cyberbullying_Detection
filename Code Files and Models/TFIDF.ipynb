{
  "cells": [
    {
      "cell_type": "markdown",
      "metadata": {
        "id": "view-in-github",
        "colab_type": "text"
      },
      "source": [
        "<a href=\"https://colab.research.google.com/github/PranayNagrale/Multilingual_Cyberbullying_Detection/blob/main/Code%20Files%20and%20Models/TFIDF.ipynb\" target=\"_parent\"><img src=\"https://colab.research.google.com/assets/colab-badge.svg\" alt=\"Open In Colab\"/></a>"
      ]
    },
    {
      "cell_type": "code",
      "execution_count": null,
      "metadata": {
        "id": "8Q486NAPJVaG"
      },
      "outputs": [],
      "source": [
        "import pandas as pd"
      ]
    },
    {
      "cell_type": "code",
      "execution_count": null,
      "metadata": {
        "id": "PBF_snNnHDDd"
      },
      "outputs": [],
      "source": [
        "df = pd.read_csv('/content/drive/MyDrive/hatespeech/cyberbullying_training_dataset.csv')\n",
        "df.dropna(inplace = True)\n",
        "df.reset_index(drop = True, inplace = True)"
      ]
    },
    {
      "cell_type": "code",
      "execution_count": null,
      "metadata": {
        "id": "iqvRo_yuJT1R"
      },
      "outputs": [],
      "source": [
        "df.transformed_text = df.transformed_text.astype('str')"
      ]
    },
    {
      "cell_type": "code",
      "execution_count": null,
      "metadata": {
        "id": "daixqMdFJdXx"
      },
      "outputs": [],
      "source": [
        "from sklearn.feature_extraction.text import CountVectorizer,TfidfVectorizer\n",
        "cv = CountVectorizer()\n",
        "tfidf = TfidfVectorizer(max_features=3000)"
      ]
    },
    {
      "cell_type": "code",
      "source": [
        "import pickle\n",
        "# pickle.dump(tfidf,open('/content/drive/MyDrive/cyberbulling/TFIDF/tfidf_vectorizer.pkl','wb'))"
      ],
      "metadata": {
        "id": "WL-1vyERmRWz"
      },
      "execution_count": null,
      "outputs": []
    },
    {
      "cell_type": "code",
      "execution_count": null,
      "metadata": {
        "colab": {
          "base_uri": "https://localhost:8080/"
        },
        "id": "3KeOvRcjJjhg",
        "outputId": "a9423224-b828-42b8-eceb-d7ed7585d3cc"
      },
      "outputs": [
        {
          "output_type": "execute_result",
          "data": {
            "text/plain": [
              "3000"
            ]
          },
          "metadata": {},
          "execution_count": 6
        }
      ],
      "source": [
        "len(tfidf.fit_transform(df['transformed_text']).toarray()[0])"
      ]
    },
    {
      "cell_type": "code",
      "execution_count": null,
      "metadata": {
        "id": "3SaXP7pKJmS9"
      },
      "outputs": [],
      "source": [
        "X = tfidf.fit_transform(df['transformed_text']).toarray()"
      ]
    },
    {
      "cell_type": "code",
      "execution_count": null,
      "metadata": {
        "colab": {
          "base_uri": "https://localhost:8080/"
        },
        "id": "eUhAYHmTJoxy",
        "outputId": "ec3da866-46b6-4225-d637-91a918d4d6b4"
      },
      "outputs": [
        {
          "output_type": "execute_result",
          "data": {
            "text/plain": [
              "(115659, 3000)"
            ]
          },
          "metadata": {},
          "execution_count": 8
        }
      ],
      "source": [
        "X.shape"
      ]
    },
    {
      "cell_type": "code",
      "execution_count": null,
      "metadata": {
        "id": "GW5boRMiJsKm"
      },
      "outputs": [],
      "source": [
        "y = df['hate'].values"
      ]
    },
    {
      "cell_type": "code",
      "execution_count": null,
      "metadata": {
        "id": "zkPKJgk8J21Q"
      },
      "outputs": [],
      "source": [
        "from sklearn.model_selection import train_test_split"
      ]
    },
    {
      "cell_type": "code",
      "execution_count": null,
      "metadata": {
        "id": "Eq17ZLw2KO8x"
      },
      "outputs": [],
      "source": [
        "X_train,X_test,y_train,y_test = train_test_split(X,y,test_size=0.2,random_state=2)"
      ]
    },
    {
      "cell_type": "code",
      "execution_count": null,
      "metadata": {
        "id": "sR4chuA_KQ0W"
      },
      "outputs": [],
      "source": [
        "from sklearn.naive_bayes import GaussianNB,MultinomialNB,BernoulliNB\n",
        "from sklearn.metrics import accuracy_score,confusion_matrix,precision_score, f1_score, recall_score"
      ]
    },
    {
      "cell_type": "code",
      "execution_count": null,
      "metadata": {
        "id": "0WefXVVkKTBn"
      },
      "outputs": [],
      "source": [
        "gnb = GaussianNB()\n",
        "mnb = MultinomialNB()\n",
        "bnb = BernoulliNB()"
      ]
    },
    {
      "cell_type": "code",
      "execution_count": null,
      "metadata": {
        "colab": {
          "base_uri": "https://localhost:8080/"
        },
        "id": "-D82av9aKXGX",
        "outputId": "a568806e-4348-4f23-8341-3e646bea6d6b"
      },
      "outputs": [
        {
          "output_type": "stream",
          "name": "stdout",
          "text": [
            "accuracy score: 0.7354746671277883\n",
            "precision score: 0.744214259051885\n",
            "f1 score: 0.7227332457293035\n",
            "recall_score: 0.7024575002202061\n"
          ]
        }
      ],
      "source": [
        "gnb.fit(X_train,y_train)\n",
        "y_pred1 = gnb.predict(X_test)\n",
        "print(f'accuracy score: {accuracy_score(y_test,y_pred1)}')\n",
        "print(f'precision score: {precision_score(y_test,y_pred1)}')\n",
        "print(f'f1 score: {f1_score(y_test,y_pred1)}')\n",
        "print(f'recall_score: {recall_score(y_test,y_pred1)}')"
      ]
    },
    {
      "cell_type": "code",
      "execution_count": null,
      "metadata": {
        "colab": {
          "base_uri": "https://localhost:8080/"
        },
        "id": "V8SetJn7KY4M",
        "outputId": "52dd4b05-6a92-4ba6-b94d-3fdae3775aa8"
      },
      "outputs": [
        {
          "output_type": "stream",
          "name": "stdout",
          "text": [
            "accuracy score: 0.7420456510461698\n",
            "precision score: 0.7784325889164598\n",
            "f1 score: 0.7161950059453033\n",
            "recall_score: 0.6631727296749758\n"
          ]
        }
      ],
      "source": [
        "mnb.fit(X_train,y_train)\n",
        "y_pred2 = mnb.predict(X_test)\n",
        "print(f'accuracy score: {accuracy_score(y_test,y_pred2)}')\n",
        "print(f'precision score: {precision_score(y_test,y_pred2)}')\n",
        "print(f'f1 score: {f1_score(y_test,y_pred2)}')\n",
        "print(f'recall_score: {recall_score(y_test,y_pred2)}')"
      ]
    },
    {
      "cell_type": "code",
      "execution_count": null,
      "metadata": {
        "id": "6OKfPkWpKbrc"
      },
      "outputs": [],
      "source": [
        "from sklearn.linear_model import LogisticRegression"
      ]
    },
    {
      "cell_type": "code",
      "execution_count": null,
      "metadata": {
        "id": "H2nf07sJLqxg"
      },
      "outputs": [],
      "source": [
        "lrc = LogisticRegression(solver='liblinear', penalty='l1')"
      ]
    },
    {
      "cell_type": "code",
      "execution_count": null,
      "metadata": {
        "colab": {
          "base_uri": "https://localhost:8080/"
        },
        "id": "Jagl5T1NMpop",
        "outputId": "3219fa72-657d-4570-f1ac-6876b252ac2d"
      },
      "outputs": [
        {
          "output_type": "stream",
          "name": "stdout",
          "text": [
            "accuracy score: 0.7850164274597959\n",
            "precision score: 0.8401578161654937\n",
            "f1 score: 0.7601176981332304\n",
            "recall_score: 0.694001585484013\n"
          ]
        }
      ],
      "source": [
        "lrc.fit(X_train,y_train)\n",
        "y_pred3 = lrc.predict(X_test)\n",
        "print(f'accuracy score: {accuracy_score(y_test,y_pred3)}')\n",
        "print(f'precision score: {precision_score(y_test,y_pred3)}')\n",
        "print(f'f1 score: {f1_score(y_test,y_pred3)}')\n",
        "print(f'recall_score: {recall_score(y_test,y_pred3)}')"
      ]
    },
    {
      "cell_type": "code",
      "execution_count": null,
      "metadata": {
        "id": "3ON666ojMrmB"
      },
      "outputs": [],
      "source": [
        "from sklearn.tree import DecisionTreeClassifier\n",
        "from sklearn.neighbors import KNeighborsClassifier\n",
        "from sklearn.ensemble import RandomForestClassifier"
      ]
    },
    {
      "cell_type": "code",
      "execution_count": null,
      "metadata": {
        "id": "rUn2InxZN3cH"
      },
      "outputs": [],
      "source": [
        "knc = KNeighborsClassifier()\n",
        "dtc = DecisionTreeClassifier(max_depth=5)"
      ]
    },
    {
      "cell_type": "code",
      "execution_count": null,
      "metadata": {
        "colab": {
          "base_uri": "https://localhost:8080/"
        },
        "id": "vXcp4Ii3N5_N",
        "outputId": "ff073e37-9323-4f70-b6d6-e4b3b541889d"
      },
      "outputs": [
        {
          "output_type": "stream",
          "name": "stdout",
          "text": [
            "accuracy score: 0.6416652256614214\n",
            "precision score: 0.996757457846952\n",
            "f1 score: 0.4258502458959617\n",
            "recall_score: 0.2707654364485158\n"
          ]
        }
      ],
      "source": [
        "dtc.fit(X_train,y_train)\n",
        "y_pred4 = dtc.predict(X_test)\n",
        "print(f'accuracy score: {accuracy_score(y_test,y_pred4)}')\n",
        "print(f'precision score: {precision_score(y_test,y_pred4)}')\n",
        "print(f'f1 score: {f1_score(y_test,y_pred4)}')\n",
        "print(f'recall_score: {recall_score(y_test,y_pred4)}')"
      ]
    },
    {
      "cell_type": "code",
      "execution_count": null,
      "metadata": {
        "id": "jY2VCXUsONLt"
      },
      "outputs": [],
      "source": [
        "# need higher processing\n",
        "#knc.fit(X_train,y_train)\n",
        "#y_pred5 = knc.predict(X_test)\n",
        "#print(accuracy_score(y_test,y_pred5))\n",
        "#print(confusion_matrix(y_test,y_pred5))\n",
        "#print(precision_score(y_test,y_pred5))\n",
        "#print(f1_score(y_test,y_pred5))"
      ]
    },
    {
      "cell_type": "code",
      "execution_count": null,
      "metadata": {
        "id": "X3_PPYJTPRp1"
      },
      "outputs": [],
      "source": [
        "rfc = RandomForestClassifier()"
      ]
    },
    {
      "cell_type": "code",
      "execution_count": null,
      "metadata": {
        "colab": {
          "base_uri": "https://localhost:8080/"
        },
        "id": "8-jp543XR-nK",
        "outputId": "d9a9feb8-ae62-4e64-84c9-61223dd076c7"
      },
      "outputs": [
        {
          "output_type": "stream",
          "name": "stdout",
          "text": [
            "accuracy score: 0.7809527926681653\n",
            "precision score: 0.8156256276360715\n",
            "f1 score: 0.7622354652526864\n",
            "recall_score: 0.7154056196600017\n"
          ]
        }
      ],
      "source": [
        "rfc.fit(X_train,y_train)\n",
        "y_pred5 = rfc.predict(X_test)\n",
        "print(f'accuracy score: {accuracy_score(y_test,y_pred5)}')\n",
        "print(f'precision score: {precision_score(y_test,y_pred5)}')\n",
        "print(f'f1 score: {f1_score(y_test,y_pred5)}')\n",
        "print(f'recall_score: {recall_score(y_test,y_pred5)}')"
      ]
    },
    {
      "cell_type": "code",
      "source": [
        "import pickle\n",
        "# pickle.dump(gnb,open('/content/drive/MyDrive/cyberbulling/TFIDF/gnb_model.pkl','wb'))\n",
        "# pickle.dump(mnb,open('/content/drive/MyDrive/cyberbulling/TFIDF/mnb_model.pkl','wb'))\n",
        "# pickle.dump(lrc,open('/content/drive/MyDrive/cyberbulling/TFIDF/lrc_model.pkl','wb'))\n",
        "# pickle.dump(dtc,open('/content/drive/MyDrive/cyberbulling/TFIDF/dtc_model.pkl','wb'))\n",
        "# pickle.dump(rfc,open('/content/drive/MyDrive/cyberbulling/TFIDF/rfc_model.pkl','wb'))"
      ],
      "metadata": {
        "id": "etFP4Dpd0N7P"
      },
      "execution_count": null,
      "outputs": []
    },
    {
      "cell_type": "code",
      "execution_count": null,
      "metadata": {
        "id": "M2BqiizfSIlC"
      },
      "outputs": [],
      "source": [
        "from sklearn.ensemble import AdaBoostClassifier\n",
        "from sklearn.ensemble import BaggingClassifier\n",
        "from sklearn.ensemble import ExtraTreesClassifier\n",
        "from sklearn.ensemble import GradientBoostingClassifier\n",
        "from xgboost import XGBClassifier"
      ]
    },
    {
      "cell_type": "code",
      "execution_count": null,
      "metadata": {
        "id": "l9iz8nC7Z13R"
      },
      "outputs": [],
      "source": [
        "abc = AdaBoostClassifier(random_state=2)\n",
        "etc = ExtraTreesClassifier(random_state=2)\n",
        "gbdt = GradientBoostingClassifier(random_state=2)\n",
        "xgb = XGBClassifier(random_state=2)"
      ]
    },
    {
      "cell_type": "code",
      "execution_count": null,
      "metadata": {
        "colab": {
          "base_uri": "https://localhost:8080/"
        },
        "id": "UQLl1z1eaBvw",
        "outputId": "cf2c4324-96e1-4bd2-8b90-e44391826a5d"
      },
      "outputs": [
        {
          "output_type": "stream",
          "name": "stdout",
          "text": [
            "accuracy score: 0.7209493342555767\n",
            "precision score: 0.9009495743287492\n",
            "f1 score: 0.6303189966210412\n",
            "recall_score: 0.48471769576323437\n"
          ]
        }
      ],
      "source": [
        "abc.fit(X_train,y_train)\n",
        "y_pred6 = abc.predict(X_test)\n",
        "print(f'accuracy score: {accuracy_score(y_test,y_pred6)}')\n",
        "print(f'precision score: {precision_score(y_test,y_pred6)}')\n",
        "print(f'f1 score: {f1_score(y_test,y_pred6)}')\n",
        "print(f'recall_score: {recall_score(y_test,y_pred6)}')"
      ]
    },
    {
      "cell_type": "code",
      "source": [
        "# pickle.dump(abc,open('/content/drive/MyDrive/cyberbulling/TFIDF/abc_model.pkl','wb'))\n"
      ],
      "metadata": {
        "id": "ZFYycSN14fX9"
      },
      "execution_count": null,
      "outputs": []
    },
    {
      "cell_type": "code",
      "execution_count": null,
      "metadata": {
        "id": "VtZM7ZgnkDw1"
      },
      "outputs": [],
      "source": [
        "etc = ExtraTreesClassifier(n_estimators=150, random_state=2)"
      ]
    },
    {
      "cell_type": "code",
      "execution_count": null,
      "metadata": {
        "id": "e2_k09tekDfk",
        "colab": {
          "base_uri": "https://localhost:8080/"
        },
        "outputId": "43968a56-300c-4d69-95f8-0bb653d3a4f8"
      },
      "outputs": [
        {
          "output_type": "stream",
          "name": "stdout",
          "text": [
            "accuracy score: 0.7826819989624763\n",
            "precision score: 0.8164265706282513\n",
            "f1 score: 0.7645322965946882\n",
            "recall_score: 0.7188408350215802\n"
          ]
        }
      ],
      "source": [
        "etc.fit(X_train,y_train)\n",
        "y_pred7 = etc.predict(X_test)\n",
        "print(f'accuracy score: {accuracy_score(y_test,y_pred7)}')\n",
        "print(f'precision score: {precision_score(y_test,y_pred7)}')\n",
        "print(f'f1 score: {f1_score(y_test,y_pred7)}')\n",
        "print(f'recall_score: {recall_score(y_test,y_pred7)}')"
      ]
    },
    {
      "cell_type": "code",
      "source": [
        "import pickle\n",
        "# pickle.dump(abc,open('/content/drive/MyDrive/cyberbulling/TFIDF/etc_model.pkl','wb'))"
      ],
      "metadata": {
        "id": "ASLMLlon2Zkh"
      },
      "execution_count": null,
      "outputs": []
    },
    {
      "cell_type": "code",
      "source": [
        "etc = ExtraTreesClassifier(n_estimators=50, random_state=2)"
      ],
      "metadata": {
        "id": "WJ0ITTVM2gEW"
      },
      "execution_count": null,
      "outputs": []
    },
    {
      "cell_type": "code",
      "source": [
        "etc.fit(X_train,y_train)\n",
        "y_pred7 = etc.predict(X_test)\n",
        "print(f'accuracy score: {accuracy_score(y_test,y_pred7)}')\n",
        "print(f'precision score: {precision_score(y_test,y_pred7)}')\n",
        "print(f'f1 score: {f1_score(y_test,y_pred7)}')\n",
        "print(f'recall_score: {recall_score(y_test,y_pred7)}')"
      ],
      "metadata": {
        "colab": {
          "base_uri": "https://localhost:8080/"
        },
        "id": "6TvcyYyW2f_Q",
        "outputId": "b78b1982-afb2-4e20-a578-48ff5eb771bd"
      },
      "execution_count": null,
      "outputs": [
        {
          "output_type": "stream",
          "name": "stdout",
          "text": [
            "accuracy score: 0.7816877053432475\n",
            "precision score: 0.8163203854260764\n",
            "f1 score: 0.7630887596171889\n",
            "recall_score: 0.7163745265568572\n"
          ]
        }
      ]
    },
    {
      "cell_type": "code",
      "execution_count": null,
      "metadata": {
        "id": "BLbMDrA-HyHK"
      },
      "outputs": [],
      "source": [
        "# gbdt.fit(X_train,y_train)\n",
        "# y_pred8 = gbdt.predict(X_test)\n",
        "# print(f'accuracy score: {accuracy_score(y_test,y_pred8)}')\n",
        "# print(f'precision score: {precision_score(y_test,y_pred8)}')\n",
        "# print(f'f1 score: {f1_score(y_test,y_pred8)}')\n",
        "# print(f'recall_score: {recall_score(y_test,y_pred8)}')\n"
      ]
    },
    {
      "cell_type": "code",
      "execution_count": null,
      "metadata": {
        "colab": {
          "base_uri": "https://localhost:8080/"
        },
        "id": "yPKSNzosbwPr",
        "outputId": "09de1472-0e8c-48cd-d9a2-116253d54a47"
      },
      "outputs": [
        {
          "output_type": "stream",
          "name": "stdout",
          "text": [
            "accuracy score: 0.764265951928065\n",
            "precision score: 0.8951245646932762\n",
            "f1 score: 0.710239651416122\n",
            "recall_score: 0.5886549810622743\n"
          ]
        }
      ],
      "source": [
        "xgb.fit(X_train,y_train)\n",
        "y_pred9 = xgb.predict(X_test)\n",
        "print(f'accuracy score: {accuracy_score(y_test,y_pred9)}')\n",
        "print(f'precision score: {precision_score(y_test,y_pred9)}')\n",
        "print(f'f1 score: {f1_score(y_test,y_pred9)}')\n",
        "print(f'recall_score: {recall_score(y_test,y_pred9)}')"
      ]
    },
    {
      "cell_type": "code",
      "source": [
        "xgb = XGBClassifier(n_estimators=50,random_state=2)\n",
        "xgb.fit(X_train,y_train)\n",
        "y_pred9 = xgb.predict(X_test)\n",
        "print(f'accuracy score: {accuracy_score(y_test,y_pred9)}')\n",
        "print(f'precision score: {precision_score(y_test,y_pred9)}')\n",
        "print(f'f1 score: {f1_score(y_test,y_pred9)}')\n",
        "print(f'recall_score: {recall_score(y_test,y_pred9)}')"
      ],
      "metadata": {
        "colab": {
          "base_uri": "https://localhost:8080/"
        },
        "id": "Aw-6-CcXAsdC",
        "outputId": "3df72a23-512c-43ad-9d04-c85d464c911f"
      },
      "execution_count": null,
      "outputs": [
        {
          "output_type": "stream",
          "name": "stdout",
          "text": [
            "accuracy score: 0.748270793705689\n",
            "precision score: 0.9056631455399061\n",
            "f1 score: 0.6795090538829874\n",
            "recall_score: 0.5437329340262486\n"
          ]
        }
      ]
    },
    {
      "cell_type": "code",
      "execution_count": null,
      "metadata": {
        "id": "ShdJ08aeic5p"
      },
      "outputs": [],
      "source": [
        "xgb = XGBClassifier(n_estimators=200,random_state=2)"
      ]
    },
    {
      "cell_type": "code",
      "execution_count": null,
      "metadata": {
        "colab": {
          "base_uri": "https://localhost:8080/"
        },
        "id": "QOIK0zMEic2L",
        "outputId": "b471fbb1-c721-4ad4-b15c-b4e02ee2bf6c"
      },
      "outputs": [
        {
          "output_type": "stream",
          "name": "stdout",
          "text": [
            "accuracy score: 0.7740791976482795\n",
            "precision score: 0.8851037083595223\n",
            "f1 score: 0.7293349906774393\n",
            "recall_score: 0.6201884964326609\n"
          ]
        }
      ],
      "source": [
        "xgb.fit(X_train,y_train)\n",
        "y_pred9 = xgb.predict(X_test)\n",
        "print(f'accuracy score: {accuracy_score(y_test,y_pred9)}')\n",
        "print(f'precision score: {precision_score(y_test,y_pred9)}')\n",
        "print(f'f1 score: {f1_score(y_test,y_pred9)}')\n",
        "print(f'recall_score: {recall_score(y_test,y_pred9)}')"
      ]
    },
    {
      "cell_type": "code",
      "execution_count": null,
      "metadata": {
        "id": "L7lbmXYog2Si"
      },
      "outputs": [],
      "source": [
        "import pickle\n",
        "# pickle.dump(xgb,open('/content/drive/MyDrive/cyberbulling/TFIDF/xgb_model.pkl','wb'))"
      ]
    },
    {
      "cell_type": "code",
      "execution_count": null,
      "metadata": {
        "id": "TzuSgHnZg52O"
      },
      "outputs": [],
      "source": [
        "\n",
        "# pickle.dump(gnb,open('/content/drive/MyDrive/cyberbulling/TFIDF/gnb_model.pkl','wb'))\n",
        "# pickle.dump(mnb,open('/content/drive/MyDrive/cyberbulling/TFIDF/mnb_model.pkl','wb'))\n",
        "# pickle.dump(lrc,open('/content/drive/MyDrive/cyberbulling/TFIDF/lrc_model.pkl','wb'))\n",
        "# pickle.dump(dtc,open('/content/drive/MyDrive/cyberbulling/TFIDF/dtc_model.pkl','wb'))\n",
        "# pickle.dump(rfc,open('/content/drive/MyDrive/cyberbulling/TFIDF/rfc_model.pkl','wb'))\n",
        "# pickle.dump(etc,open('/content/drive/MyDrive/cyberbulling/TFIDF/etc_model.pkl','wb'))\n",
        "# pickle.dump(gbdt,open('/content/drive/MyDrive/cyberbulling/TFIDF/gbdt_model.pkl','wb'))\n"
      ]
    },
    {
      "cell_type": "code",
      "execution_count": null,
      "metadata": {
        "id": "ZdUSsx1C7_AE"
      },
      "outputs": [],
      "source": [
        "# rf = RandomForestClassifier(n_estimators = 300, max_features ='sqrt')"
      ]
    },
    {
      "cell_type": "code",
      "execution_count": null,
      "metadata": {
        "colab": {
          "base_uri": "https://localhost:8080/"
        },
        "id": "q3Y5IQjp7-xs",
        "outputId": "ea26ff00-6ac1-48bf-a2ec-88ee666e1d19"
      },
      "outputs": [
        {
          "name": "stdout",
          "output_type": "stream",
          "text": [
            "accuracy score: 0.7960882230545152\n",
            "precision score: 0.8193843491160836\n",
            "f1 score: 0.7717745691662784\n",
            "recall_score: 0.7293936392648839\n"
          ]
        }
      ],
      "source": [
        "# rf.fit(X_train,y_train)\n",
        "# y_pred10 = rf.predict(X_test)\n",
        "# print(f'accuracy score: {accuracy_score(y_test,y_pred10)}')\n",
        "# print(f'precision score: {precision_score(y_test,y_pred10)}')\n",
        "# print(f'f1 score: {f1_score(y_test,y_pred10)}')\n",
        "# print(f'recall_score: {recall_score(y_test,y_pred10)}')"
      ]
    },
    {
      "cell_type": "code",
      "execution_count": null,
      "metadata": {
        "id": "8s4r2uI99-_q"
      },
      "outputs": [],
      "source": [
        "# Voting Classifier\n",
        "# from sklearn.ensemble import VotingClassifier"
      ]
    },
    {
      "cell_type": "code",
      "execution_count": null,
      "metadata": {
        "id": "r4i9Gb279-xy"
      },
      "outputs": [],
      "source": [
        "# voting = VotingClassifier(estimators=[('lrc', lrc), ('xgb', xgb),('etc', etc),('rfc', rfc),],voting='soft')"
      ]
    },
    {
      "cell_type": "code",
      "execution_count": null,
      "metadata": {
        "colab": {
          "background_save": true
        },
        "id": "R9pZMHUp_Vgw",
        "outputId": "db3896ef-8d3d-4431-f893-2dfbdee51145"
      },
      "outputs": [
        {
          "data": {
            "text/html": [
              "<style>#sk-container-id-1 {color: black;background-color: white;}#sk-container-id-1 pre{padding: 0;}#sk-container-id-1 div.sk-toggleable {background-color: white;}#sk-container-id-1 label.sk-toggleable__label {cursor: pointer;display: block;width: 100%;margin-bottom: 0;padding: 0.3em;box-sizing: border-box;text-align: center;}#sk-container-id-1 label.sk-toggleable__label-arrow:before {content: \"▸\";float: left;margin-right: 0.25em;color: #696969;}#sk-container-id-1 label.sk-toggleable__label-arrow:hover:before {color: black;}#sk-container-id-1 div.sk-estimator:hover label.sk-toggleable__label-arrow:before {color: black;}#sk-container-id-1 div.sk-toggleable__content {max-height: 0;max-width: 0;overflow: hidden;text-align: left;background-color: #f0f8ff;}#sk-container-id-1 div.sk-toggleable__content pre {margin: 0.2em;color: black;border-radius: 0.25em;background-color: #f0f8ff;}#sk-container-id-1 input.sk-toggleable__control:checked~div.sk-toggleable__content {max-height: 200px;max-width: 100%;overflow: auto;}#sk-container-id-1 input.sk-toggleable__control:checked~label.sk-toggleable__label-arrow:before {content: \"▾\";}#sk-container-id-1 div.sk-estimator input.sk-toggleable__control:checked~label.sk-toggleable__label {background-color: #d4ebff;}#sk-container-id-1 div.sk-label input.sk-toggleable__control:checked~label.sk-toggleable__label {background-color: #d4ebff;}#sk-container-id-1 input.sk-hidden--visually {border: 0;clip: rect(1px 1px 1px 1px);clip: rect(1px, 1px, 1px, 1px);height: 1px;margin: -1px;overflow: hidden;padding: 0;position: absolute;width: 1px;}#sk-container-id-1 div.sk-estimator {font-family: monospace;background-color: #f0f8ff;border: 1px dotted black;border-radius: 0.25em;box-sizing: border-box;margin-bottom: 0.5em;}#sk-container-id-1 div.sk-estimator:hover {background-color: #d4ebff;}#sk-container-id-1 div.sk-parallel-item::after {content: \"\";width: 100%;border-bottom: 1px solid gray;flex-grow: 1;}#sk-container-id-1 div.sk-label:hover label.sk-toggleable__label {background-color: #d4ebff;}#sk-container-id-1 div.sk-serial::before {content: \"\";position: absolute;border-left: 1px solid gray;box-sizing: border-box;top: 0;bottom: 0;left: 50%;z-index: 0;}#sk-container-id-1 div.sk-serial {display: flex;flex-direction: column;align-items: center;background-color: white;padding-right: 0.2em;padding-left: 0.2em;position: relative;}#sk-container-id-1 div.sk-item {position: relative;z-index: 1;}#sk-container-id-1 div.sk-parallel {display: flex;align-items: stretch;justify-content: center;background-color: white;position: relative;}#sk-container-id-1 div.sk-item::before, #sk-container-id-1 div.sk-parallel-item::before {content: \"\";position: absolute;border-left: 1px solid gray;box-sizing: border-box;top: 0;bottom: 0;left: 50%;z-index: -1;}#sk-container-id-1 div.sk-parallel-item {display: flex;flex-direction: column;z-index: 1;position: relative;background-color: white;}#sk-container-id-1 div.sk-parallel-item:first-child::after {align-self: flex-end;width: 50%;}#sk-container-id-1 div.sk-parallel-item:last-child::after {align-self: flex-start;width: 50%;}#sk-container-id-1 div.sk-parallel-item:only-child::after {width: 0;}#sk-container-id-1 div.sk-dashed-wrapped {border: 1px dashed gray;margin: 0 0.4em 0.5em 0.4em;box-sizing: border-box;padding-bottom: 0.4em;background-color: white;}#sk-container-id-1 div.sk-label label {font-family: monospace;font-weight: bold;display: inline-block;line-height: 1.2em;}#sk-container-id-1 div.sk-label-container {text-align: center;}#sk-container-id-1 div.sk-container {/* jupyter's `normalize.less` sets `[hidden] { display: none; }` but bootstrap.min.css set `[hidden] { display: none !important; }` so we also need the `!important` here to be able to override the default hidden behavior on the sphinx rendered scikit-learn.org. See: https://github.com/scikit-learn/scikit-learn/issues/21755 */display: inline-block !important;position: relative;}#sk-container-id-1 div.sk-text-repr-fallback {display: none;}</style><div id=\"sk-container-id-1\" class=\"sk-top-container\"><div class=\"sk-text-repr-fallback\"><pre>VotingClassifier(estimators=[(&#x27;lrc&#x27;,\n",
              "                              LogisticRegression(penalty=&#x27;l1&#x27;,\n",
              "                                                 solver=&#x27;liblinear&#x27;)),\n",
              "                             (&#x27;xgb&#x27;,\n",
              "                              XGBClassifier(base_score=None, booster=None,\n",
              "                                            callbacks=None,\n",
              "                                            colsample_bylevel=None,\n",
              "                                            colsample_bynode=None,\n",
              "                                            colsample_bytree=None, device=None,\n",
              "                                            early_stopping_rounds=None,\n",
              "                                            enable_categorical=False,\n",
              "                                            eval_metric=None,\n",
              "                                            feature_types=None, gamma=None,\n",
              "                                            grow_policy=None,\n",
              "                                            i...\n",
              "                                            max_cat_threshold=None,\n",
              "                                            max_cat_to_onehot=None,\n",
              "                                            max_delta_step=None, max_depth=None,\n",
              "                                            max_leaves=None,\n",
              "                                            min_child_weight=None, missing=nan,\n",
              "                                            monotone_constraints=None,\n",
              "                                            multi_strategy=None,\n",
              "                                            n_estimators=200, n_jobs=None,\n",
              "                                            num_parallel_tree=None,\n",
              "                                            random_state=2, ...)),\n",
              "                             (&#x27;etc&#x27;,\n",
              "                              ExtraTreesClassifier(n_estimators=150,\n",
              "                                                   random_state=2)),\n",
              "                             (&#x27;rfc&#x27;, RandomForestClassifier())],\n",
              "                 voting=&#x27;soft&#x27;)</pre><b>In a Jupyter environment, please rerun this cell to show the HTML representation or trust the notebook. <br />On GitHub, the HTML representation is unable to render, please try loading this page with nbviewer.org.</b></div><div class=\"sk-container\" hidden><div class=\"sk-item sk-dashed-wrapped\"><div class=\"sk-label-container\"><div class=\"sk-label sk-toggleable\"><input class=\"sk-toggleable__control sk-hidden--visually\" id=\"sk-estimator-id-1\" type=\"checkbox\" ><label for=\"sk-estimator-id-1\" class=\"sk-toggleable__label sk-toggleable__label-arrow\">VotingClassifier</label><div class=\"sk-toggleable__content\"><pre>VotingClassifier(estimators=[(&#x27;lrc&#x27;,\n",
              "                              LogisticRegression(penalty=&#x27;l1&#x27;,\n",
              "                                                 solver=&#x27;liblinear&#x27;)),\n",
              "                             (&#x27;xgb&#x27;,\n",
              "                              XGBClassifier(base_score=None, booster=None,\n",
              "                                            callbacks=None,\n",
              "                                            colsample_bylevel=None,\n",
              "                                            colsample_bynode=None,\n",
              "                                            colsample_bytree=None, device=None,\n",
              "                                            early_stopping_rounds=None,\n",
              "                                            enable_categorical=False,\n",
              "                                            eval_metric=None,\n",
              "                                            feature_types=None, gamma=None,\n",
              "                                            grow_policy=None,\n",
              "                                            i...\n",
              "                                            max_cat_threshold=None,\n",
              "                                            max_cat_to_onehot=None,\n",
              "                                            max_delta_step=None, max_depth=None,\n",
              "                                            max_leaves=None,\n",
              "                                            min_child_weight=None, missing=nan,\n",
              "                                            monotone_constraints=None,\n",
              "                                            multi_strategy=None,\n",
              "                                            n_estimators=200, n_jobs=None,\n",
              "                                            num_parallel_tree=None,\n",
              "                                            random_state=2, ...)),\n",
              "                             (&#x27;etc&#x27;,\n",
              "                              ExtraTreesClassifier(n_estimators=150,\n",
              "                                                   random_state=2)),\n",
              "                             (&#x27;rfc&#x27;, RandomForestClassifier())],\n",
              "                 voting=&#x27;soft&#x27;)</pre></div></div></div><div class=\"sk-parallel\"><div class=\"sk-parallel-item\"><div class=\"sk-item\"><div class=\"sk-label-container\"><div class=\"sk-label sk-toggleable\"><label>lrc</label></div></div><div class=\"sk-serial\"><div class=\"sk-item\"><div class=\"sk-estimator sk-toggleable\"><input class=\"sk-toggleable__control sk-hidden--visually\" id=\"sk-estimator-id-2\" type=\"checkbox\" ><label for=\"sk-estimator-id-2\" class=\"sk-toggleable__label sk-toggleable__label-arrow\">LogisticRegression</label><div class=\"sk-toggleable__content\"><pre>LogisticRegression(penalty=&#x27;l1&#x27;, solver=&#x27;liblinear&#x27;)</pre></div></div></div></div></div></div><div class=\"sk-parallel-item\"><div class=\"sk-item\"><div class=\"sk-label-container\"><div class=\"sk-label sk-toggleable\"><label>xgb</label></div></div><div class=\"sk-serial\"><div class=\"sk-item\"><div class=\"sk-estimator sk-toggleable\"><input class=\"sk-toggleable__control sk-hidden--visually\" id=\"sk-estimator-id-3\" type=\"checkbox\" ><label for=\"sk-estimator-id-3\" class=\"sk-toggleable__label sk-toggleable__label-arrow\">XGBClassifier</label><div class=\"sk-toggleable__content\"><pre>XGBClassifier(base_score=None, booster=None, callbacks=None,\n",
              "              colsample_bylevel=None, colsample_bynode=None,\n",
              "              colsample_bytree=None, device=None, early_stopping_rounds=None,\n",
              "              enable_categorical=False, eval_metric=None, feature_types=None,\n",
              "              gamma=None, grow_policy=None, importance_type=None,\n",
              "              interaction_constraints=None, learning_rate=None, max_bin=None,\n",
              "              max_cat_threshold=None, max_cat_to_onehot=None,\n",
              "              max_delta_step=None, max_depth=None, max_leaves=None,\n",
              "              min_child_weight=None, missing=nan, monotone_constraints=None,\n",
              "              multi_strategy=None, n_estimators=200, n_jobs=None,\n",
              "              num_parallel_tree=None, random_state=2, ...)</pre></div></div></div></div></div></div><div class=\"sk-parallel-item\"><div class=\"sk-item\"><div class=\"sk-label-container\"><div class=\"sk-label sk-toggleable\"><label>etc</label></div></div><div class=\"sk-serial\"><div class=\"sk-item\"><div class=\"sk-estimator sk-toggleable\"><input class=\"sk-toggleable__control sk-hidden--visually\" id=\"sk-estimator-id-4\" type=\"checkbox\" ><label for=\"sk-estimator-id-4\" class=\"sk-toggleable__label sk-toggleable__label-arrow\">ExtraTreesClassifier</label><div class=\"sk-toggleable__content\"><pre>ExtraTreesClassifier(n_estimators=150, random_state=2)</pre></div></div></div></div></div></div><div class=\"sk-parallel-item\"><div class=\"sk-item\"><div class=\"sk-label-container\"><div class=\"sk-label sk-toggleable\"><label>rfc</label></div></div><div class=\"sk-serial\"><div class=\"sk-item\"><div class=\"sk-estimator sk-toggleable\"><input class=\"sk-toggleable__control sk-hidden--visually\" id=\"sk-estimator-id-5\" type=\"checkbox\" ><label for=\"sk-estimator-id-5\" class=\"sk-toggleable__label sk-toggleable__label-arrow\">RandomForestClassifier</label><div class=\"sk-toggleable__content\"><pre>RandomForestClassifier()</pre></div></div></div></div></div></div></div></div></div></div>"
            ],
            "text/plain": [
              "VotingClassifier(estimators=[('lrc',\n",
              "                              LogisticRegression(penalty='l1',\n",
              "                                                 solver='liblinear')),\n",
              "                             ('xgb',\n",
              "                              XGBClassifier(base_score=None, booster=None,\n",
              "                                            callbacks=None,\n",
              "                                            colsample_bylevel=None,\n",
              "                                            colsample_bynode=None,\n",
              "                                            colsample_bytree=None, device=None,\n",
              "                                            early_stopping_rounds=None,\n",
              "                                            enable_categorical=False,\n",
              "                                            eval_metric=None,\n",
              "                                            feature_types=None, gamma=None,\n",
              "                                            grow_policy=None,\n",
              "                                            i...\n",
              "                                            max_cat_threshold=None,\n",
              "                                            max_cat_to_onehot=None,\n",
              "                                            max_delta_step=None, max_depth=None,\n",
              "                                            max_leaves=None,\n",
              "                                            min_child_weight=None, missing=nan,\n",
              "                                            monotone_constraints=None,\n",
              "                                            multi_strategy=None,\n",
              "                                            n_estimators=200, n_jobs=None,\n",
              "                                            num_parallel_tree=None,\n",
              "                                            random_state=2, ...)),\n",
              "                             ('etc',\n",
              "                              ExtraTreesClassifier(n_estimators=150,\n",
              "                                                   random_state=2)),\n",
              "                             ('rfc', RandomForestClassifier())],\n",
              "                 voting='soft')"
            ]
          },
          "execution_count": 27,
          "metadata": {},
          "output_type": "execute_result"
        }
      ],
      "source": [
        "# voting.fit(X_train,y_train)"
      ]
    },
    {
      "cell_type": "code",
      "execution_count": null,
      "metadata": {
        "id": "kn5PYVZQ_VdV"
      },
      "outputs": [],
      "source": [
        "# y_pred = voting.predict(X_test)\n",
        "# print(\"Accuracy\",accuracy_score(y_test,y_pred))\n",
        "# print(\"Precision\",precision_score(y_test,y_pred))\n",
        "# print(f'f1 score: {f1_score(y_test,y_pred)}')\n",
        "# print(f'recall_score: {recall_score(y_test,y_pred)}')"
      ]
    },
    {
      "cell_type": "code",
      "execution_count": null,
      "metadata": {
        "id": "rDgZxy9v_b8Q"
      },
      "outputs": [],
      "source": [
        "# import pickle\n",
        "# pickle.dump(voting,open('/content/drive/MyDrive/cyberbulling/TFIDF/voting_model.pkl','wb'))"
      ]
    },
    {
      "cell_type": "code",
      "execution_count": null,
      "metadata": {
        "id": "TRcBzrrw0qmr"
      },
      "outputs": [],
      "source": []
    },
    {
      "cell_type": "markdown",
      "source": [
        "* For stacking requires high configuration."
      ],
      "metadata": {
        "id": "7BjAbMxSIA9F"
      }
    },
    {
      "cell_type": "code",
      "source": [
        "# # Applying stacking\n",
        "# estimators=[('lrc', lrc), ('xgb', xgb), ('etc', etc)]\n",
        "# final_estimator=RandomForestClassifier()"
      ],
      "metadata": {
        "id": "YuxMlqoB4brM"
      },
      "execution_count": null,
      "outputs": []
    },
    {
      "cell_type": "code",
      "source": [
        "# from sklearn.ensemble import StackingClassifier"
      ],
      "metadata": {
        "id": "6vXjjw-F4bjK"
      },
      "execution_count": null,
      "outputs": []
    },
    {
      "cell_type": "code",
      "source": [
        "# clf = StackingClassifier(estimators=estimators, final_estimator=final_estimator)"
      ],
      "metadata": {
        "id": "v5ylSSCL4bfv"
      },
      "execution_count": null,
      "outputs": []
    },
    {
      "cell_type": "code",
      "source": [
        "# clf.fit(X_train,y_train)\n",
        "# y_preds = clf.predict(X_test)\n",
        "# print(\"Accuracy\",accuracy_score(y_test,y_preds))\n",
        "# print(\"Precision\",precision_score(y_test,y_preds))\n",
        "# print(f'f1 score: {f1_score(y_test,y_preds)}')\n",
        "# print(f'recall_score: {recall_score(y_test,y_preds)}')"
      ],
      "metadata": {
        "id": "mE5SBLRH4bcX"
      },
      "execution_count": null,
      "outputs": []
    },
    {
      "cell_type": "code",
      "source": [],
      "metadata": {
        "id": "a3AN0_en4bZK"
      },
      "execution_count": null,
      "outputs": []
    },
    {
      "cell_type": "code",
      "source": [],
      "metadata": {
        "id": "ad_doDjY4bIR"
      },
      "execution_count": null,
      "outputs": []
    },
    {
      "cell_type": "code",
      "execution_count": null,
      "metadata": {
        "id": "OSVZrYz5R6c7"
      },
      "outputs": [],
      "source": [
        "# from sklearn.model_selection import RandomizedSearchCV"
      ]
    },
    {
      "cell_type": "code",
      "execution_count": null,
      "metadata": {
        "id": "8N5dvFodPnMt"
      },
      "outputs": [],
      "source": [
        "# rf_model = RandomForestClassifier()"
      ]
    },
    {
      "cell_type": "code",
      "execution_count": null,
      "metadata": {
        "id": "slTX4oXTQs-a"
      },
      "outputs": [],
      "source": [
        "# # No. of trees in a random forest\n",
        "# n_estimators = [int(i) for i in range(100, 1201, 100)]\n",
        "\n",
        "# # No. of features to consider at every split\n",
        "# max_features = ['sqrt', 1.0]\n",
        "\n",
        "# # Maximun number of levels in a tree\n",
        "# max_depth = [int(i) for i in range(5,31,5)]\n",
        "\n",
        "# # Minimum number of samples required to split a node\n",
        "# min_samples_split = [2, 5, 10, 15, 100]\n",
        "\n",
        "# # Minimum number of samples required at each leaf node\n",
        "# min_samples_leaf = [1,2,5,10]"
      ]
    },
    {
      "cell_type": "code",
      "execution_count": null,
      "metadata": {
        "id": "ynp-ruX4tI9w"
      },
      "outputs": [],
      "source": [
        "# import numpy as np"
      ]
    },
    {
      "cell_type": "code",
      "execution_count": null,
      "metadata": {
        "id": "K3Eu1tjyQt-Z"
      },
      "outputs": [],
      "source": [
        "# [int(i) for i in np.linspace(start=5,stop=30,num=6)]"
      ]
    },
    {
      "cell_type": "code",
      "execution_count": null,
      "metadata": {
        "id": "YFwj21KqQ3sr"
      },
      "outputs": [],
      "source": [
        "# random_grid = {\n",
        "#     \"n_estimators\": n_estimators,\n",
        "#     \"max_features\": max_features,\n",
        "#     \"max_depth\": max_depth,\n",
        "#     \"min_samples_split\": min_samples_split,\n",
        "#     \"min_samples_leaf\": min_samples_leaf\n",
        "# }"
      ]
    },
    {
      "cell_type": "code",
      "execution_count": null,
      "metadata": {
        "id": "yg2Fyqb8Q7lx"
      },
      "outputs": [],
      "source": [
        "# random_grid"
      ]
    },
    {
      "cell_type": "code",
      "execution_count": null,
      "metadata": {
        "id": "lgOY2Vo7Q_qY"
      },
      "outputs": [],
      "source": [
        "# rf_random = RandomizedSearchCV(estimator = rf_model,\n",
        "#                                param_distributions = random_grid,\n",
        "#                                scoring = 'neg_mean_squared_error',\n",
        "#                                n_jobs = 1,\n",
        "#                                random_state = 42,\n",
        "#                                verbose = 2)"
      ]
    },
    {
      "cell_type": "code",
      "execution_count": null,
      "metadata": {
        "id": "2nobfuZBRD3v"
      },
      "outputs": [],
      "source": [
        "# rf_random.fit(X_train, y_train)"
      ]
    },
    {
      "cell_type": "code",
      "execution_count": null,
      "metadata": {
        "id": "0yh_eaDlRJYO"
      },
      "outputs": [],
      "source": [
        "# rf_random.best_params_"
      ]
    },
    {
      "cell_type": "code",
      "execution_count": null,
      "metadata": {
        "id": "79pUXApwRV26"
      },
      "outputs": [],
      "source": [
        "# y_pred11 = rf_random.predict(X_test)\n",
        "# print(f'accuracy score: {accuracy_score(y_test,y_pred11)}')\n",
        "# print(f'precision score: {precision_score(y_test,y_pred11)}')\n",
        "# print(f'f1 score: {f1_score(y_test,y_pred11)}')\n",
        "# print(f'recall_score: {recall_score(y_test,y_pred11)}')"
      ]
    }
  ],
  "metadata": {
    "accelerator": "TPU",
    "colab": {
      "provenance": [],
      "mount_file_id": "1pFgbv3F0EM1Y7GPFHnLo4FFZnq5tqR97",
      "authorship_tag": "ABX9TyN+xpZA5GClemzo35kV1qaQ",
      "include_colab_link": true
    },
    "kernelspec": {
      "display_name": "Python 3",
      "name": "python3"
    },
    "language_info": {
      "name": "python"
    }
  },
  "nbformat": 4,
  "nbformat_minor": 0
}